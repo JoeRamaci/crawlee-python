{
 "cells": [
  {
   "cell_type": "code",
   "execution_count": 1,
   "id": "06aad80a-a9db-486a-8a5e-c20d248aafc5",
   "metadata": {},
   "outputs": [],
   "source": [
    "%load_ext autoreload\n",
    "%autoreload 2\n",
    "\n",
    "import sys\n",
    "import os\n",
    "\n",
    "# Ensure the current working directory is on the path\n",
    "sys.path.append(os.getcwd())"
   ]
  },
  {
   "cell_type": "code",
   "execution_count": 2,
   "id": "c077b74a-e0fa-4ede-a52d-ed743b003d5e",
   "metadata": {},
   "outputs": [],
   "source": [
    "from crawlee import Glob\n",
    "from crawlee.crawlers._beautifulsoup._beautifulsoup_crawler import BeautifulSoupCrawler, BeautifulSoupCrawlingContext\n",
    "from crawlee import EnqueueStrategy\n",
    "from crawlee.configuration import Configuration"
   ]
  },
  {
   "cell_type": "code",
   "execution_count": 3,
   "id": "0be29db7-611c-4b11-be79-ddc78d416c80",
   "metadata": {},
   "outputs": [],
   "source": [
    "crawler = BeautifulSoupCrawler(\n",
    "    configuration=Configuration(\n",
    "        persist_storage=False,\n",
    "        purge_on_start=True,\n",
    "    ),\n",
    ")"
   ]
  },
  {
   "cell_type": "code",
   "execution_count": 4,
   "id": "18f7e48d-9a22-4daa-9bf9-f5ee2c6b872b",
   "metadata": {},
   "outputs": [],
   "source": [
    "@crawler.router.default_handler\n",
    "async def request_handler(context: BeautifulSoupCrawlingContext) -> None:\n",
    "    context.log.info(f'Processing {context.request.url} ...')\n",
    "    # Enqueue links without specifying a strategy\n",
    "    await context.enqueue_links()"
   ]
  },
  {
   "cell_type": "code",
   "execution_count": 5,
   "id": "eeeb76d7-b053-4e85-b226-b0ec96915c7c",
   "metadata": {},
   "outputs": [],
   "source": [
    "from crawlee.storages import RequestQueue\n",
    "\n",
    "request_provider = await RequestQueue.open()\n",
    "await request_provider.drop()"
   ]
  },
  {
   "cell_type": "code",
   "execution_count": 7,
   "id": "ef87fa43-7bce-48a8-a2c3-16febd6b4343",
   "metadata": {},
   "outputs": [
    {
     "name": "stderr",
     "output_type": "stream",
     "text": [
      "\u001b[90m[BeautifulSoupCrawler]\u001b[0m \u001b[32mINFO \u001b[0m Current request statistics:\n",
      "┌───────────────────────────────┬──────────┐\n",
      "│ requests_finished             │ 0        │\n",
      "│ requests_failed               │ 0        │\n",
      "│ retry_histogram               │ [0]      │\n",
      "│ request_avg_failed_duration   │ None     │\n",
      "│ request_avg_finished_duration │ None     │\n",
      "│ requests_finished_per_minute  │ 0        │\n",
      "│ requests_failed_per_minute    │ 0        │\n",
      "│ request_total_duration        │ 0.0      │\n",
      "│ requests_total                │ 0        │\n",
      "│ crawler_runtime               │ 0.014256 │\n",
      "└───────────────────────────────┴──────────┘\n",
      "\u001b[90m[crawlee._autoscaling.autoscaled_pool]\u001b[0m \u001b[32mINFO \u001b[0m current_concurrency = 0; desired_concurrency = 1; cpu = 0.0; mem = 0.0; event_loop = 0.858; client_info = 0.0\n"
     ]
    },
    {
     "name": "stdout",
     "output_type": "stream",
     "text": [
      "Start: 13/5/2025 16:15:5\n",
      "Now: 13/5/2025 16:15:5 (running for 0.0 secs)\n",
      "Progress: 0 / 1 (0.00%), failed: 0 (0.00%)\n",
      "Sys. load: 2.09 CPU / 73.52% Memory\n",
      "Concurrencies: Current 0, Desired 2\n",
      "No active Chromium processes detected.\n",
      "Start: 13/5/2025 16:15:5\n",
      "Now: 13/5/2025 16:15:5 (running for 0.0 secs)\n",
      "Progress: 0 / 1 (0.00%), failed: 0 (0.00%)\n",
      "Sys. load: 2.09 CPU / 73.56% Memory\n",
      "Concurrencies: Current 0, Desired 1\n",
      "No active Chromium processes detected.\n",
      "Start: 13/5/2025 16:15:6\n",
      "Now: 13/5/2025 16:15:6 (running for 0.0 secs)\n",
      "Progress: 0 / 1 (0.00%), failed: 0 (0.00%)\n",
      "Sys. load: 2.09 CPU / 73.20% Memory\n",
      "Concurrencies: Current 1, Desired 1\n",
      "No active Chromium processes detected.\n"
     ]
    },
    {
     "name": "stderr",
     "output_type": "stream",
     "text": [
      "\u001b[90m[BeautifulSoupCrawler]\u001b[0m \u001b[32mINFO \u001b[0m Processing https://11-19-inject-broken-links.docs-7kl.pages.dev ...\n"
     ]
    },
    {
     "name": "stdout",
     "output_type": "stream",
     "text": [
      "Start: 13/5/2025 16:15:6\n",
      "Now: 13/5/2025 16:15:6 (running for 0.0 secs)\n",
      "Progress: 0 / 1 (0.00%), failed: 0 (0.00%)\n",
      "Sys. load: 2.09 CPU / 73.30% Memory\n",
      "Concurrencies: Current 1, Desired 1\n",
      "No active Chromium processes detected.\n"
     ]
    },
    {
     "name": "stderr",
     "output_type": "stream",
     "text": [
      "\u001b[90m[BeautifulSoupCrawler]\u001b[0m \u001b[32mINFO \u001b[0m Processing https://11-19-inject-broken-links.docs-7kl.pages.dev/changelog ...\n",
      "\u001b[90m[BeautifulSoupCrawler]\u001b[0m \u001b[32mINFO \u001b[0m Processing https://11-19-inject-broken-links.docs-7kl.pages.dev/getting-started ...\n",
      "\u001b[90m[BeautifulSoupCrawler]\u001b[0m \u001b[32mINFO \u001b[0m Processing https://11-19-inject-broken-links.docs-7kl.pages.dev/ai-reviewer ...\n"
     ]
    },
    {
     "name": "stdout",
     "output_type": "stream",
     "text": [
      "Start: 13/5/2025 16:15:7\n",
      "Now: 13/5/2025 16:15:7 (running for 0.0 secs)\n",
      "Progress: 3 / 20 (15.00%), failed: 0 (0.00%)\n",
      "Sys. load: 2.00 CPU / 73.32% Memory\n",
      "Concurrencies: Current 1, Desired 1\n",
      "No active Chromium processes detected.\n"
     ]
    },
    {
     "name": "stderr",
     "output_type": "stream",
     "text": [
      "\u001b[90m[BeautifulSoupCrawler]\u001b[0m \u001b[32mINFO \u001b[0m Processing https://11-19-inject-broken-links.docs-7kl.pages.dev/configuration ...\n",
      "\u001b[90m[BeautifulSoupCrawler]\u001b[0m \u001b[32mINFO \u001b[0m Processing https://11-19-inject-broken-links.docs-7kl.pages.dev/ai-reviewer/link-and-seo-checks ...\n",
      "\u001b[90m[BeautifulSoupCrawler]\u001b[0m \u001b[32mINFO \u001b[0m Processing https://11-19-inject-broken-links.docs-7kl.pages.dev/ai-editor ...\n",
      "\u001b[90m[BeautifulSoupCrawler]\u001b[0m \u001b[32mINFO \u001b[0m Processing https://11-19-inject-broken-links.docs-7kl.pages.dev/style-guide ...\n"
     ]
    },
    {
     "name": "stdout",
     "output_type": "stream",
     "text": [
      "Start: 13/5/2025 16:15:7\n",
      "Now: 13/5/2025 16:15:7 (running for 0.0 secs)\n",
      "Progress: 6 / 42 (14.29%), failed: 0 (0.00%)\n",
      "Sys. load: 2.00 CPU / 73.30% Memory\n",
      "Concurrencies: Current 1, Desired 1\n",
      "No active Chromium processes detected.\n"
     ]
    },
    {
     "name": "stderr",
     "output_type": "stream",
     "text": [
      "\u001b[90m[BeautifulSoupCrawler]\u001b[0m \u001b[32mINFO \u001b[0m Processing https://11-19-inject-broken-links.docs-7kl.pages.dev/vale-integration ...\n",
      "\u001b[90m[BeautifulSoupCrawler]\u001b[0m \u001b[32mINFO \u001b[0m Processing https://11-19-inject-broken-links.docs-7kl.pages.dev/pricing-and-billing ...\n",
      "\u001b[90m[BeautifulSoupCrawler]\u001b[0m \u001b[32mINFO \u001b[0m Processing https://11-19-inject-broken-links.docs-7kl.pages.dev/getting-started/installation ...\n"
     ]
    },
    {
     "name": "stdout",
     "output_type": "stream",
     "text": [
      "Start: 13/5/2025 16:15:8\n",
      "Now: 13/5/2025 16:15:8 (running for 0.0 secs)\n",
      "Progress: 10 / 63 (15.87%), failed: 0 (0.00%)\n",
      "Sys. load: 2.00 CPU / 73.30% Memory\n",
      "Concurrencies: Current 1, Desired 1\n",
      "No active Chromium processes detected.\n"
     ]
    },
    {
     "name": "stderr",
     "output_type": "stream",
     "text": [
      "\u001b[90m[BeautifulSoupCrawler]\u001b[0m \u001b[32mINFO \u001b[0m Processing https://11-19-inject-broken-links.docs-7kl.pages.dev/ai-reviewer/custom-style-guide ...\n",
      "\u001b[90m[BeautifulSoupCrawler]\u001b[0m \u001b[32mINFO \u001b[0m Processing https://11-19-inject-broken-links.docs-7kl.pages.dev/configuration_fake_broken_link ...\n",
      "\u001b[90m[BeautifulSoupCrawler]\u001b[0m \u001b[32mINFO \u001b[0m Processing https://11-19-inject-broken-links.docs-7kl.pages.dev/getting-started/quickstart ...\n",
      "\u001b[90m[crawlee._autoscaling.autoscaled_pool]\u001b[0m \u001b[32mINFO \u001b[0m Waiting for remaining tasks to finish\n",
      "\u001b[90m[BeautifulSoupCrawler]\u001b[0m \u001b[32mINFO \u001b[0m Final request statistics:\n",
      "┌───────────────────────────────┬──────────┐\n",
      "│ requests_finished             │ 14       │\n",
      "│ requests_failed               │ 0        │\n",
      "│ retry_histogram               │ [14]     │\n",
      "│ request_avg_failed_duration   │ None     │\n",
      "│ request_avg_finished_duration │ 0.216082 │\n",
      "│ requests_finished_per_minute  │ 234      │\n",
      "│ requests_failed_per_minute    │ 0        │\n",
      "│ request_total_duration        │ 3.025147 │\n",
      "│ requests_total                │ 14       │\n",
      "│ crawler_runtime               │ 3.592713 │\n",
      "└───────────────────────────────┴──────────┘\n"
     ]
    },
    {
     "data": {
      "text/plain": [
       "FinalStatistics(requests_finished=14, requests_failed=0, retry_histogram=[14], request_avg_failed_duration=None, request_avg_finished_duration=datetime.timedelta(microseconds=216082), requests_finished_per_minute=234, requests_failed_per_minute=0, request_total_duration=datetime.timedelta(seconds=3, microseconds=25147), requests_total=14, crawler_runtime=datetime.timedelta(seconds=3, microseconds=592713))"
      ]
     },
     "execution_count": 7,
     "metadata": {},
     "output_type": "execute_result"
    }
   ],
   "source": [
    "results = await crawler.run(['https://11-19-inject-broken-links.docs-7kl.pages.dev'])\n",
    "results"
   ]
  },
  {
   "cell_type": "code",
   "execution_count": null,
   "id": "2d928b3b-9052-4183-adb6-52e5da682348",
   "metadata": {},
   "outputs": [],
   "source": []
  }
 ],
 "metadata": {
  "kernelspec": {
   "display_name": "Python (crawlee-env)",
   "language": "python",
   "name": "crawlee-env"
  },
  "language_info": {
   "codemirror_mode": {
    "name": "ipython",
    "version": 3
   },
   "file_extension": ".py",
   "mimetype": "text/x-python",
   "name": "python",
   "nbconvert_exporter": "python",
   "pygments_lexer": "ipython3",
   "version": "3.13.3"
  }
 },
 "nbformat": 4,
 "nbformat_minor": 5
}
